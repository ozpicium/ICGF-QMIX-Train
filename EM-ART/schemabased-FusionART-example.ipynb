{
 "cells": [
  {
   "cell_type": "code",
   "execution_count": 1,
   "metadata": {},
   "outputs": [
    {
     "name": "stdout",
     "output_type": "stream",
     "text": [
      "lengths:  3\n",
      "Code: 0 {'F2': 0, 'weights': [[1.0, 1.0, 1.0, 1.0], [1.0, 1.0, 1.0, 1.0], [1.0, 1.0]]}\n",
      "-----------------------------------------\n",
      "F1: [[0.0, 0.0, 0.0, 0.0], [0.0, 0.0, 0.0, 0.0], [0.0, 0.0]]\n"
     ]
    },
    {
     "data": {
      "text/plain": [
       "[{'name': 'state',\n",
       "  'compl': True,\n",
       "  'attrib': ['s1', 's2'],\n",
       "  'val': [0.0, 0.0],\n",
       "  'vcompl': [0.0, 0.0]},\n",
       " {'name': 'action',\n",
       "  'attrib': ['a1', 'a2', 'a3', 'a4'],\n",
       "  'compl': False,\n",
       "  'val': [0.0, 0.0, 0.0, 0.0]},\n",
       " {'name': 'Q', 'compl': True, 'attrib': ['q'], 'val': [0.0], 'vcompl': [0.0]}]"
      ]
     },
     "execution_count": 1,
     "metadata": {},
     "output_type": "execute_result"
    }
   ],
   "source": [
    "from fusionART import *\n",
    "\n",
    "fa = FusionART(schema=[{'name':'state','compl':True,'attrib':['s1','s2']},{'name':'action','attrib':['a1','a2','a3','a4']},{'name':'Q','compl':True,'attrib':['q']}],beta=[1.0,1.0,1.0],alpha=[0.1,0.1,0.1],gamma=[1.0,1.0,1.0],rho=[0.2,0.2,0.5])\n",
    "fa.displayNetwork()\n",
    "fa.F1Fields"
   ]
  },
  {
   "cell_type": "markdown",
   "metadata": {},
   "source": [
    "\"a FusionART object can be created by specifying F1 fields based on schema. Here each F1 field can have a 'name', label for every attribute/element, and set to be complement coded. As shown in the example, the field is populated with values ('val') and their complements ('vcompl') in F1Fields property of the FusionART object. The weights structure and activityF1 follow the specification in the schema.\""
   ]
  },
  {
   "cell_type": "code",
   "execution_count": 2,
   "metadata": {},
   "outputs": [
    {
     "name": "stdout",
     "output_type": "stream",
     "text": [
      "\n",
      "resonance search: \n",
      "selected  0\n",
      "uncommitted\n",
      "Code: 0 {'F2': 0, 'weights': [[1.0, 0.0, 0.0, 1.0], [0, 0, 0, 1.0], [0.6, 0.4]]}\n",
      "Code: 1 {'F2': 0, 'weights': [[1, 1, 1, 1], [1, 1, 1, 1], [1, 1]]}\n",
      "-----------------------------------------\n",
      "F1: [[1.0, 0.0, 0.0, 1.0], [0, 0, 0, 1.0], [0.6, 0.4]]\n"
     ]
    },
    {
     "name": "stderr",
     "output_type": "stream",
     "text": [
      "/home/budhitama/Nextcloud/Documents/Script_Import_11Sections/EM-ART-13052021/fusionART.py:258: VisibleDeprecationWarning: Creating an ndarray from ragged nested sequences (which is a list-or-tuple of lists-or-tuples-or ndarrays with different lengths or shapes) is deprecated. If you meant to do this, you must specify 'dtype=object' when creating the ndarray.\n",
      "  a = np.array(a)\n",
      "/home/budhitama/Nextcloud/Documents/Script_Import_11Sections/EM-ART-13052021/fusionART.py:259: VisibleDeprecationWarning: Creating an ndarray from ragged nested sequences (which is a list-or-tuple of lists-or-tuples-or ndarrays with different lengths or shapes) is deprecated. If you meant to do this, you must specify 'dtype=object' when creating the ndarray.\n",
      "  w = np.array(w)\n"
     ]
    }
   ],
   "source": [
    "print(\"\")\n",
    "fa.updateF1bySchema([{'name':'state', 'val':[1.0,0.0]},{'name':'action', 'val':[0,0,0,1.0]},{'name':'Q','val':[0.6]}])\n",
    "print(\"resonance search: \")\n",
    "J = fa.resSearch(mtrack=[0])\n",
    "print(\"selected \", J)\n",
    "if fa.uncommitted(J):\n",
    "\tprint ('uncommitted')\n",
    "fa.autoLearn(J)\n",
    "fa.displayNetwork()"
   ]
  },
  {
   "cell_type": "markdown",
   "metadata": {},
   "source": [
    "\"The input can also be specified and provided as a schema using 'updateF1bySchema' method. The complemented values can be filled up automatically as specified in the schema. Given the input, the resonance search can be conducted to select a node J in to learn as normal\""
   ]
  },
  {
   "cell_type": "code",
   "execution_count": 3,
   "metadata": {},
   "outputs": [
    {
     "name": "stdout",
     "output_type": "stream",
     "text": [
      "set F1 by schema  [{'name': 'state', 'val': [0.0, 1.0]}, {'name': 'action', 'val': [1.0, 0, 0, 0]}, {'name': 'Q', 'val': [0.3]}]\n",
      "resonance search: \n",
      "selected  1\n",
      "uncommitted\n",
      "Code: 0 {'F2': 0.6363636363636362, 'weights': [[1.0, 0.0, 0.0, 1.0], [0, 0, 0, 1.0], [0.6, 0.4]]}\n",
      "Code: 1 {'F2': 0, 'weights': [[0.0, 1.0, 1.0, 0.0], [1.0, 0, 0, 0], [0.3, 0.7]]}\n",
      "Code: 2 {'F2': 0, 'weights': [[1, 1, 1, 1], [1, 1, 1, 1], [1, 1]]}\n",
      "-----------------------------------------\n",
      "F1: [[0.0, 1.0, 1.0, 0.0], [1.0, 0, 0, 0], [0.3, 0.7]]\n",
      "\n",
      "set F1 by schema  [{'name': 'state', 'val': [1.0, 0.0]}, {'name': 'action', 'val': [0, 0, 0, 1.0]}, {'name': 'Q', 'val': [0.6]}]\n",
      "resonance search: \n",
      "selected  0\n",
      "Code: 0 {'F2': 0, 'weights': [[1.0, 0.0, 0.0, 1.0], [0.0, 0.0, 0.0, 1.0], [0.6, 0.4]]}\n",
      "Code: 1 {'F2': 0.6363636363636362, 'weights': [[0.0, 1.0, 1.0, 0.0], [1.0, 0, 0, 0], [0.3, 0.7]]}\n",
      "Code: 2 {'F2': 1.207897793263647, 'weights': [[1, 1, 1, 1], [1, 1, 1, 1], [1, 1]]}\n",
      "-----------------------------------------\n",
      "F1: [[1.0, 0.0, 0.0, 1.0], [0, 0, 0, 1.0], [0.6, 0.4]]\n"
     ]
    }
   ],
   "source": [
    "fa.updateF1bySchema([{'name':'state', 'val':[0.0,1.0]},{'name':'action', 'val':[1.0,0,0,0]},{'name':'Q','val':[0.3]}])\n",
    "print(\"set F1 by schema \", [{'name':'state', 'val':[0.0,1.0]},{'name':'action', 'val':[1.0,0,0,0]},{'name':'Q','val':[0.3]}])\n",
    "print(\"resonance search: \")\n",
    "J = fa.resSearch(mtrack=[0])\n",
    "print(\"selected \", J)\n",
    "if fa.uncommitted(J):\n",
    "\tprint('uncommitted')\n",
    "fa.autoLearn(J)\n",
    "fa.displayNetwork()\n",
    "\n",
    "print(\"\")\n",
    "fa.updateF1bySchema([{'name':'state', 'val':[1.0,0.0]},{'name':'action', 'val':[0,0,0,1.0]},{'name':'Q','val':[0.6]}])\n",
    "print(\"set F1 by schema \", [{'name':'state', 'val':[1.0,0.0]},{'name':'action', 'val':[0,0,0,1.0]},{'name':'Q','val':[0.6]}])\n",
    "print(\"resonance search: \")\n",
    "J = fa.resSearch(mtrack=[0])\n",
    "print(\"selected \", J)\n",
    "if fa.uncommitted(J):\n",
    "\tprint('uncommitted')\n",
    "fa.autoLearn(J)\n",
    "fa.displayNetwork()"
   ]
  },
  {
   "cell_type": "markdown",
   "metadata": {},
   "source": [
    "\"The resonance search can be conducted iteratively many times to store or match the inputs.\" "
   ]
  },
  {
   "cell_type": "code",
   "execution_count": 4,
   "metadata": {},
   "outputs": [
    {
     "name": "stdout",
     "output_type": "stream",
     "text": [
      "after topdown readout of activityF1 to F1 fields\n",
      "F1 Fields:  [{'name': 'state', 'compl': True, 'attrib': ['s1', 's2'], 'val': [1.0, 0.0], 'vcompl': [0.0, 1.0]}, {'name': 'action', 'attrib': ['a1', 'a2', 'a3', 'a4'], 'compl': False, 'val': [0, 0, 0, 1.0]}, {'name': 'Q', 'compl': True, 'attrib': ['q'], 'val': [0.6], 'vcompl': [0.4]}]\n"
     ]
    }
   ],
   "source": [
    "fa.TopDownF1()\n",
    "print(\"after topdown readout of activityF1 to F1 fields\")\n",
    "print(\"F1 Fields: \", fa.F1Fields)"
   ]
  },
  {
   "cell_type": "markdown",
   "metadata": {},
   "source": [
    "\"any update on activityF1 of the FusionART object will not automatically reflect on the schema 'F1Fields'. 'TopDownF1' method should be called to update the schema 'F1Fields' according to 'activityF1'.\""
   ]
  }
 ],
 "metadata": {
  "kernelspec": {
   "display_name": "py37",
   "language": "python",
   "name": "py37"
  },
  "language_info": {
   "codemirror_mode": {
    "name": "ipython",
    "version": 3
   },
   "file_extension": ".py",
   "mimetype": "text/x-python",
   "name": "python",
   "nbconvert_exporter": "python",
   "pygments_lexer": "ipython3",
   "version": "3.7.9"
  }
 },
 "nbformat": 4,
 "nbformat_minor": 2
}
