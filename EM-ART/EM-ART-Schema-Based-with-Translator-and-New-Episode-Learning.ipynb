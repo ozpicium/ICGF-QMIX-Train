{
 "cells": [
  {
   "cell_type": "code",
   "execution_count": null,
   "metadata": {},
   "outputs": [],
   "source": [
    "from fusionART import *\n",
    "\n",
    "fb = FusionART(schema=[{'name':'events','compl':True,'attrib':['y1']}],beta=[1.0],alpha=[0.1],gamma=[1.0],rho=[0.6],numarray=True)\n",
    "fa = FusionART(schema=[{'name':'state','compl':True,'attrib':['s1','s2']},{'name':'action','attrib':['a1','a2','a3','a4']},{'name':'Q','compl':True,'attrib':['q']}],beta=[1.0,1.0,1.0],alpha=[0.1,0.1,0.1],gamma=[1.0,1.0,1.0],rho=[0.25,1.0,0.25],numarray=True)\n",
    "\n",
    "fa.stackTopFusionART(fb)\n",
    "fa.linkF2TopF1BySchema(['events'])\n",
    "\n",
    "fa.TopFusionART.displayNetwork()\n",
    "print(\"===========================\")\n",
    "fa.displayNetwork()"
   ]
  },
  {
   "cell_type": "markdown",
   "metadata": {},
   "source": [
    "Episodic Memory ART (EM-ART) can be made by stacking two FusionART objects together. The method of 'stackTopFusionART' is to stack a field (like fb) on top of another (like fa). Using the schema model, fb is defined with schema and so the bottom fa. A single complement-coded field, named 'events', is used to hold the sequence of events in hot-gradient encoding. After stacking, the F2 layer of fa must be linked to 'events' field in fb using 'linkF2TopF1BySchema' method. The top layer fb is connected to fa as 'TopFusionART' property."
   ]
  },
  {
   "cell_type": "code",
   "execution_count": null,
   "metadata": {},
   "outputs": [],
   "source": [
    "#simple update rule function for episode\n",
    "def updWeightsSimpleZero(rate, weightk, inputk):\n",
    "    uw = copy.deepcopy(weightk)\n",
    "    for i in range(len(inputk)):\n",
    "        if inputk[i] <= 0: \n",
    "            uw[i] = 0.0\n",
    "    return uw\n",
    "\n",
    "#set the update rule method for template learning in the top fusion ART (fb) the simple update rule above\n",
    "fb.setUpdWeightFunction(ufunction=updWeightsSimpleZero)"
   ]
  },
  {
   "cell_type": "markdown",
   "metadata": {},
   "source": [
    "the particular method to update the weights of a fusion ART network can be updated at runtime by putting the update function in the argument of setUpdWeightFuction method"
   ]
  },
  {
   "cell_type": "code",
   "execution_count": null,
   "metadata": {},
   "outputs": [],
   "source": [
    "fa.updateF1bySchema([{'name':'state', 'val':[1.0,0.0]},{'name':'action', 'val':[0,0,0,1.0]},{'name':'Q','val':[0.6]}])\n",
    "print(\"set F1 by schema \", [{'name':'state', 'val':[1.0,0.0]},{'name':'action', 'val':[0,0,0,1.0]},{'name':'Q','val':[0.6]}])\n",
    "print(\"resonance search: \")\n",
    "J = fa.SchemaBasedSequentialResSearch()\n",
    "print(\" \")\n",
    "print(\"selected \", J)\n",
    "if fa.uncommitted(J):\n",
    "\tprint ('uncommitted')\n",
    "fa.autoLearn(J)\n",
    "fb.displayNetwork()\n",
    "fa.displayNetwork()"
   ]
  },
  {
   "cell_type": "markdown",
   "metadata": {},
   "source": [
    "Once the network is constructed, the first pattern can be learned or stored in short/medium-term as an event by presenting the input at F1 of the bottom fusionART and call 'SchemaBasedSequentialResSearch' method to form the pattern of the first step in the episode at F1 layer of the top fusion-ART. "
   ]
  },
  {
   "cell_type": "code",
   "execution_count": null,
   "metadata": {},
   "outputs": [],
   "source": [
    "print(\"\")\n",
    "fa.updateF1bySchema([{'name':'state', 'val':[0.0,1.0]},{'name':'action', 'val':[1.0,0,0,0]},{'name':'Q','val':[0.3]}])\n",
    "print(\"set F1 by schema \", [{'name':'state', 'val':[0.0,1.0]},{'name':'action', 'val':[1.0,0,0,0]},{'name':'Q','val':[0.3]}])\n",
    "print(\"resonance search: \")\n",
    "J = fa.SchemaBasedSequentialResSearch()\n",
    "print(\"selected \", J)\n",
    "if fa.uncommitted(J):\n",
    "\tprint('uncommitted')\n",
    "fa.autoLearn(J)\n",
    "fb.displayNetwork()\n",
    "fa.displayNetwork()\n",
    "\n",
    "print(\"\")\n",
    "fa.updateF1bySchema([{'name':'state', 'val':[1.0,0.0]},{'name':'action', 'val':[1.0,0,0,1.0]},{'name':'Q','val':[0.6]}])\n",
    "print(\"set F1 by schema \", [{'name':'state', 'val':[1.0,0.0]},{'name':'action', 'val':[0,0,0,1.0]},{'name':'Q','val':[0.6]}])\n",
    "print(\"resonance search: \")\n",
    "J = fa.SchemaBasedSequentialResSearch()\n",
    "print(\"selected \", J)\n",
    "if fa.uncommitted(J):\n",
    "\tprint('uncommitted')\n",
    "fa.autoLearn(J)\n",
    "fb.displayNetwork()\n",
    "fa.displayNetwork()\n",
    "\n",
    "print(\"\")\n",
    "fa.updateF1bySchema([{'name':'state', 'val':[0.0,1.0]},{'name':'action', 'val':[1.0,0,0,0]},{'name':'Q','val':[0.3]}])\n",
    "print(\"set F1 by schema \", [{'name':'state', 'val':[0.0,1.0]},{'name':'action', 'val':[1.0,0,0,0]},{'name':'Q','val':[0.3]}])\n",
    "print(\"resonance search: \")\n",
    "J = fa.SchemaBasedSequentialResSearch()\n",
    "print(\"selected \", J)\n",
    "if fa.uncommitted(J):\n",
    "\tprint('uncommitted')\n",
    "fa.autoLearn(J)\n",
    "fb.displayNetwork()\n",
    "fa.displayNetwork()"
   ]
  },
  {
   "cell_type": "markdown",
   "metadata": {},
   "source": [
    "the subsequent event can be formed by presenting and conducting the sequential resonance search for the rest of the items in the sequence consecutively"
   ]
  },
  {
   "cell_type": "code",
   "execution_count": null,
   "metadata": {},
   "outputs": [],
   "source": [
    "J=fb.resSearch()\n",
    "fb.autoLearn(J)\n",
    "fb.displayNetwork()\n",
    "fb.clearActivityF1()"
   ]
  },
  {
   "cell_type": "markdown",
   "metadata": {},
   "source": [
    "Once the sequence is fully formed, the top FusionART can learn it to store in the network by calling resonance search (resSearch) and learn the weights (autoLearn). Once the episode is learned in the top FusionART (F2-F3 layer of EM-ART), clearActivityF1 can be used to clear the sequence buffer of the top FusionART, to be ready to insert additional episodes"
   ]
  },
  {
   "cell_type": "code",
   "execution_count": null,
   "metadata": {},
   "outputs": [],
   "source": [
    "#an example episode data in a list of F1 schema\n",
    "episode_data_2 = [ [{'name':'state', 'val':[1.0,1.0]},{'name':'action', 'val':[1.0,0,0,0]},{'name':'Q','val':[0.3]}],\n",
    "                [{'name':'state', 'val':[0.0,1.0]},{'name':'action', 'val':[0.0,1.0,0,0]},{'name':'Q','val':[0.5]}],\n",
    "                [{'name':'state', 'val':[0.0,0.0]},{'name':'action', 'val':[1.0,0,0,1.0]},{'name':'Q','val':[0.7]}],\n",
    "                [{'name':'state', 'val':[1.0,0.0]},{'name':'action', 'val':[0.0,1.0,0,0]},{'name':'Q','val':[0.5]}],\n",
    "                [{'name':'state', 'val':[0.0,1.0]},{'name':'action', 'val':[1.0,0,0,0]},{'name':'Q','val':[0.3]}] ]\n",
    "\n",
    "#another example episode data in a list of F1 schema\n",
    "episode_data_3 = [ [{'name':'state', 'val':[0.0,0.0]},{'name':'action', 'val':[1.0,0,0,1.0]},{'name':'Q','val':[0.5]}],\n",
    "                [{'name':'state', 'val':[1.0,0.0]},{'name':'action', 'val':[0.0,0,0,1.0]},{'name':'Q','val':[0.7]}],\n",
    "                [{'name':'state', 'val':[1.0,0.0]},{'name':'action', 'val':[0.0,0,1.0,0]},{'name':'Q','val':[0.3]}],\n",
    "                [{'name':'state', 'val':[0.0,0.0]},{'name':'action', 'val':[1.0,0,0,0]},{'name':'Q','val':[0.4]}] ]\n",
    "\n",
    "\n",
    "#a function that receive an episode data to store it in EM-ART\n",
    "def episode_learn(edata=None):\n",
    "    for d in edata:\n",
    "        print(\"\")\n",
    "        fa.updateF1bySchema(d)\n",
    "        print(\"set F1 by schema \", d)\n",
    "        print(\"resonance search: \")\n",
    "        J = fa.SchemaBasedSequentialResSearch()\n",
    "        print(\"selected \", J)\n",
    "        if fa.uncommitted(J):\n",
    "            print('uncommitted')\n",
    "        fa.autoLearn(J)\n",
    "        fb.displayNetwork()\n",
    "        fa.displayNetwork()\n",
    "    Jtop = fb.resSearch()\n",
    "    fb.autoLearn(Jtop)\n",
    "    fb.displayNetwork()\n",
    "    fb.clearActivityF1()\n",
    "\n",
    "#demonstration of storing the episode data with the corresponding function call\n",
    "print('learn another episode 2')\n",
    "episode_learn(edata=episode_data_2)\n",
    "print('with added episode 2:')\n",
    "fb.displayNetwork()\n",
    "fa.displayNetwork()\n",
    "\n",
    "print('learn another episode 3')\n",
    "episode_learn(edata=episode_data_3)\n",
    "print('with added episode 3:')\n",
    "fb.displayNetwork()\n",
    "fa.displayNetwork()\n",
    "\n",
    "    \n",
    "                  "
   ]
  },
  {
   "cell_type": "markdown",
   "metadata": {},
   "source": [
    "Additional episodes can be stored using for-loop as shown in the function episode_learn"
   ]
  },
  {
   "cell_type": "code",
   "execution_count": null,
   "metadata": {},
   "outputs": [],
   "source": [
    "#this function is defined to translate the activation in the F1Field schema into field and attributes\n",
    "#updated on 21 July 2021 to handle range of values display and customizable decimal digit truncation of real values\n",
    "def translateF1Event(F1s=None, trunc=1): #the number of decimal digit can be customized by changing the trunc parameter (by default is 1)\n",
    "    F1FList = {}\n",
    "    if F1s:\n",
    "        for fk in F1s:\n",
    "            F1FList[fk['name']] = []\n",
    "            for i in range(len(fk['val'])):\n",
    "                if fk['compl']:\n",
    "                    if fk['val'][i] + fk['vcompl'][i] >= 1.0: #for exact complement coded\n",
    "                        if 0 < fk['val'][i] < 1:\n",
    "                            F1FList[fk['name']].append({fk['attrib'][i]:round(fk['val'][i],trunc)}) #format the as an attribute and value (truncated)\n",
    "                        if fk['val'][i] >= 1:\n",
    "                            F1FList[fk['name']].append(fk['attrib'][i]) #format a value only by name when the value is = 1\n",
    "                    else:\n",
    "                        if (fk['val'][i] > 0) or (fk['vcompl'][i] > 0): #for generalized code or a pair other than (0,0)\n",
    "                            F1FList[fk['name']].append({fk['attrib'][i]:[round(fk['val'][i],trunc),round(1-fk['vcompl'][i],trunc)]})  \n",
    "                            #format the as an attribute with value pair (truncated) \n",
    "                else:\n",
    "                    if 0 < fk['val'][i] < 1:\n",
    "                        F1FList[fk['name']].append({fk['attrib'][i]:round(fk['val'][i],trunc)}) #format the as an attribute and value\n",
    "                    if fk['val'][i] >= 1:\n",
    "                        F1FList[fk['name']].append(fk['attrib'][i]) #format a value only by name when the value is = 1\n",
    "    return F1FList\n",
    "\n",
    "#translate an episode in the buffer\n",
    "def episodeReadoutF1Translate(EMART=None):\n",
    "    repisode = []\n",
    "    if EMART:\n",
    "        while any([ v > 0 for v in EMART.TopFusionART.activityF1[0]]):\n",
    "            EMART.seqTopReadoutToF1Schema()\n",
    "            EMART.TopDownF1()\n",
    "            repisode.append(translateF1Event(EMART.F1Fields))\n",
    "    return repisode\n",
    "\n",
    "#translate all episodes in EM-ART\n",
    "def allEpisodesReadOutTranslate(EMART=None):\n",
    "    aepisodes = []\n",
    "    for j in range(len(EMART.TopFusionART.getActivityF2())):\n",
    "        if not EMART.TopFusionART.uncommitted(j):\n",
    "            EMART.TopFusionART.doReadoutAllFields(j)\n",
    "            EMART.TopFusionART.TopDownF1()\n",
    "            aepisodes.append(episodeReadoutF1Translate(EMART=EMART))\n",
    "    return aepisodes\n",
    "\n",
    "#print out to screen the readout episodes\n",
    "def printOutTranslatedEpisodes(tEpisodes=None):\n",
    "    for j in range(len(tEpisodes)):\n",
    "        print(\"Episode \", j)\n",
    "        for e in range(len(tEpisodes[j])):\n",
    "            print(\"Event \", e, \":\", tEpisodes[j][e])\n",
    "\n",
    "#print out to string/text the readout episodes\n",
    "def printStrTranslatedEpisodes(tEpisodes=None):\n",
    "    stro = \"\"\n",
    "    for j in range(len(tEpisodes)):\n",
    "        stro += \"Episode \" + str(j) + \"\\n\"\n",
    "        for e in range(len(tEpisodes[j])):\n",
    "            stro += \"Event \" + str(e) + \":\" + str(tEpisodes[j][e]) + \"\\n\"\n",
    "    return stro"
   ]
  },
  {
   "cell_type": "markdown",
   "metadata": {},
   "source": [
    "Some functions can be defined to translate all stored episodes in EM-ART"
   ]
  },
  {
   "cell_type": "code",
   "execution_count": null,
   "metadata": {},
   "outputs": [],
   "source": [
    "aEpisodes = allEpisodesReadOutTranslate(EMART=fa)"
   ]
  },
  {
   "cell_type": "markdown",
   "metadata": {},
   "source": [
    "'allEpisodesReadOutTranslate()' can be used to translate all episodes in FusionART network"
   ]
  },
  {
   "cell_type": "code",
   "execution_count": null,
   "metadata": {},
   "outputs": [],
   "source": [
    "printOutTranslatedEpisodes(aEpisodes)"
   ]
  },
  {
   "cell_type": "markdown",
   "metadata": {},
   "source": [
    "The translated episode format can be print out using the 'printOutTranslatedEpisodes()'"
   ]
  },
  {
   "cell_type": "code",
   "execution_count": null,
   "metadata": {},
   "outputs": [],
   "source": [
    "saveFusionARTNetwork(fa, name='schembottomfa.net')\n",
    "saveFusionARTNetwork(fb, name='schemtopfb.net')"
   ]
  },
  {
   "cell_type": "markdown",
   "metadata": {},
   "source": [
    "the entire can be stored in files by calling 'saveFusionARTNetwork' for each bottom and top fusionART network"
   ]
  }
 ],
 "metadata": {
  "kernelspec": {
   "display_name": "py37",
   "language": "python",
   "name": "py37"
  },
  "language_info": {
   "codemirror_mode": {
    "name": "ipython",
    "version": 3
   },
   "file_extension": ".py",
   "mimetype": "text/x-python",
   "name": "python",
   "nbconvert_exporter": "python",
   "pygments_lexer": "ipython3",
   "version": "3.7.9"
  },
  "nteract": {
   "version": "0.28.0"
  }
 },
 "nbformat": 4,
 "nbformat_minor": 2
}
