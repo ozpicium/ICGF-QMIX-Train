{
 "cells": [
  {
   "cell_type": "code",
   "execution_count": null,
   "metadata": {},
   "outputs": [],
   "source": [
    "from fusionART import *\n",
    "\n",
    "fb = FusionART(numspace=2,lengths=[1,1],beta=[1.0,1.0,1.0],alpha=[0.1,0.1,0.1],gamma=[1.0,1.0,1.0],rho=[0.2,0.2,0.5],numarray=True)\n",
    "fa = FusionART(schema=[{'name':'state','compl':True,'attrib':['s1','s2']},{'name':'action','attrib':['a1','a2','a3','a4']},{'name':'Q','compl':True,'attrib':['q']}],beta=[1.0,1.0,1.0],alpha=[0.1,0.1,0.1],gamma=[1.0,1.0,1.0],rho=[0.2,0.2,0.5],numarray=True)\n",
    "\n",
    "fa.stackTopFusionART(fb)\n",
    "fa.linkF2TopF1([0],[1])\n",
    "\n",
    "fb.displayNetwork()\n",
    "fa.displayNetwork()"
   ]
  },
  {
   "cell_type": "markdown",
   "metadata": {},
   "source": [
    "Episodic Memory ART (EM-ART) can be made by stacking two FusionART objects together. The method of 'stackTopFusionART' is to stack a field (like fb) on top of another (like fa). Two different fields at the top FusionART can be defined to be linked to the category or F2 field of the bottom fusionART (fa) using 'linkF2TopF1'. The first argument of 'linkF2TopF1' is the list of k index of F1 input fields in the top fusionART that are linked to F2 of the bottom fusionART. The second argument is the list of k index of F1 input fields in the top fusionART to be linked with F2 of the bottom fusionART as complemented field. In this case [0] in the first argument means the first (indexed 0) field, and [1] to be the second (indexed 1) field of F1 fields of the top fusionART as the complement of the first field."
   ]
  },
  {
   "cell_type": "code",
   "execution_count": null,
   "metadata": {},
   "outputs": [],
   "source": [
    "print(\"\")\n",
    "fa.updateF1bySchema([{'name':'state', 'val':[1.0,0.0]},{'name':'action', 'val':[0,0,0,1.0]},{'name':'Q','val':[0.6]}])\n",
    "print(\"set F1 by schema \", [{'name':'state', 'val':[1.0,0.0]},{'name':'action', 'val':[0,0,0,1.0]},{'name':'Q','val':[0.6]}])\n",
    "print(\"resonance search: \")\n",
    "J = fa.SequentialResSearch()\n",
    "print(\" \")\n",
    "print(\"selected \", J)\n",
    "if fa.uncommitted(J):\n",
    "\tprint ('uncommitted')\n",
    "fa.autoLearn(J)\n",
    "fb.displayNetwork()\n",
    "print(\"==============\")\n",
    "fa.displayNetwork()"
   ]
  },
  {
   "cell_type": "markdown",
   "metadata": {},
   "source": [
    "Once the network is constructed, the first pattern can be learned or stored in short/medium-term as an event by presenting the input at F1 of the bottom fusionART and call 'SequentialResSearch' method to form the pattern of the first step in the episode at F1 layer of the top fusion-ART. "
   ]
  },
  {
   "cell_type": "code",
   "execution_count": null,
   "metadata": {},
   "outputs": [],
   "source": [
    "print(\"\")\n",
    "fa.updateF1bySchema([{'name':'state', 'val':[1.0,0.0]},{'name':'action', 'val':[0,0,0,1.0]},{'name':'Q','val':[0.6]}])\n",
    "print(\"set F1 by schema \", [{'name':'state', 'val':[1.0,0.0]},{'name':'action', 'val':[0,0,0,1.0]},{'name':'Q','val':[0.6]}])\n",
    "print(\"resonance search: \")\n",
    "J = fa.SequentialResSearch()\n",
    "print(\" \")\n",
    "print(\"selected \", J)\n",
    "if fa.uncommitted(J):\n",
    "\tprint ('uncommitted')\n",
    "fa.autoLearn(J)\n",
    "fb.displayNetwork()\n",
    "print(\"==============\")\n",
    "fa.displayNetwork()\n",
    "\n",
    "print(\"\")\n",
    "fa.updateF1bySchema([{'name':'state', 'val':[0.0,1.0]},{'name':'action', 'val':[1.0,0,0,0]},{'name':'Q','val':[0.3]}])\n",
    "print(\"set F1 by schema \", [{'name':'state', 'val':[0.0,1.0]},{'name':'action', 'val':[1.0,0,0,0]},{'name':'Q','val':[0.3]}])\n",
    "print(\"resonance search: \")\n",
    "J = fa.SequentialResSearch()\n",
    "print(\"selected \", J)\n",
    "if fa.uncommitted(J):\n",
    "\tprint('uncommitted')\n",
    "fa.autoLearn(J)\n",
    "fb.displayNetwork()\n",
    "print(\"==============\")\n",
    "fa.displayNetwork()\n",
    "\n",
    "print(\"\")\n",
    "fa.updateF1bySchema([{'name':'state', 'val':[1.0,0.0]},{'name':'action', 'val':[0,0,0,1.0]},{'name':'Q','val':[0.6]}])\n",
    "print(\"set F1 by schema \", [{'name':'state', 'val':[1.0,0.0]},{'name':'action', 'val':[0,0,0,1.0]},{'name':'Q','val':[0.6]}])\n",
    "print(\"resonance search: \")\n",
    "J = fa.SequentialResSearch()\n",
    "print(\"selected \", J)\n",
    "if fa.uncommitted(J):\n",
    "\tprint('uncommitted')\n",
    "fa.autoLearn(J)\n",
    "fb.displayNetwork()\n",
    "print(\"==============\")\n",
    "fa.displayNetwork()\n",
    "\n",
    "print(\"\")\n",
    "fa.updateF1bySchema([{'name':'state', 'val':[0.0,1.0]},{'name':'action', 'val':[1.0,0,0,0]},{'name':'Q','val':[0.3]}])\n",
    "print(\"set F1 by schema \", [{'name':'state', 'val':[0.0,1.0]},{'name':'action', 'val':[1.0,0,0,0]},{'name':'Q','val':[0.3]}])\n",
    "print(\"resonance search: \")\n",
    "J = fa.SequentialResSearch()\n",
    "print(\"selected \", J)\n",
    "if fa.uncommitted(J):\n",
    "\tprint('uncommitted')\n",
    "fa.autoLearn(J)\n",
    "fb.displayNetwork()\n",
    "print(\"==============\")\n",
    "fa.displayNetwork()"
   ]
  },
  {
   "cell_type": "markdown",
   "metadata": {},
   "source": [
    "the subsequent event can be formed by presenting and conducting the sequential resonance search for the rest of the items in the sequence consecutively"
   ]
  },
  {
   "cell_type": "code",
   "execution_count": null,
   "metadata": {},
   "outputs": [],
   "source": [
    "J=fb.resSearch()\n",
    "fb.autoLearn(J)\n",
    "fb.displayNetwork()"
   ]
  },
  {
   "cell_type": "markdown",
   "metadata": {},
   "source": [
    "Once the whole episode is completely formed in F1 of the top fusionART, the episode can be learned and stored by calling 'resSearch' method of the top fusionART"
   ]
  },
  {
   "cell_type": "code",
   "execution_count": null,
   "metadata": {},
   "outputs": [],
   "source": [
    "fa.seqTopReadoutToF1()\n",
    "fa.TopFusionART.displayNetwork()\n",
    "print(\"===========================\")\n",
    "fa.displayNetwork()\n",
    "print(\" \")\n",
    "fa.seqTopReadoutToF1()\n",
    "fa.TopFusionART.displayNetwork()\n",
    "print(\"===========================\")\n",
    "fa.displayNetwork()\n",
    "print(\" \")\n",
    "fa.seqTopReadoutToF1()\n",
    "fa.TopFusionART.displayNetwork()\n",
    "print(\"===========================\")\n",
    "fa.displayNetwork()\n",
    "fa.seqTopReadoutToF1()\n",
    "fa.TopFusionART.displayNetwork()\n",
    "print(\"===========================\")\n",
    "fa.displayNetwork()"
   ]
  },
  {
   "cell_type": "markdown",
   "metadata": {},
   "source": [
    "to readout the sequence. A series of 'seqTopReadOutToF1' methods can be called repeatedly to readout each event pattern back to the F1 fields at the bottom fusionART "
   ]
  },
  {
   "cell_type": "code",
   "execution_count": null,
   "metadata": {},
   "outputs": [],
   "source": [
    "saveFusionARTNetwork(fa, name='bottomfa.net')\n",
    "saveFusionARTNetwork(fb, name='topfb.net')"
   ]
  },
  {
   "cell_type": "markdown",
   "metadata": {},
   "source": [
    "To save all the networks, function 'saveFusionARTNetwork' can be called to store a fusionART network to a file, so that the function should be called twice, one for the bottom and the other for the top network"
   ]
  },
  {
   "cell_type": "code",
   "execution_count": null,
   "metadata": {},
   "outputs": [],
   "source": []
  },
  {
   "cell_type": "code",
   "execution_count": null,
   "metadata": {},
   "outputs": [],
   "source": []
  }
 ],
 "metadata": {
  "kernelspec": {
   "display_name": "Python 3",
   "language": "python",
   "name": "python3"
  },
  "language_info": {
   "codemirror_mode": {
    "name": "ipython",
    "version": 3
   },
   "file_extension": ".py",
   "mimetype": "text/x-python",
   "name": "python",
   "nbconvert_exporter": "python",
   "pygments_lexer": "ipython3",
   "version": "3.9.5"
  }
 },
 "nbformat": 4,
 "nbformat_minor": 2
}
