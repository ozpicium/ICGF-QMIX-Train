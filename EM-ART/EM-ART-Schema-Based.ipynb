{
 "cells": [
  {
   "cell_type": "code",
   "execution_count": 1,
   "metadata": {},
   "outputs": [
    {
     "name": "stdout",
     "output_type": "stream",
     "text": [
      "lengths:  1\n",
      "lengths:  3\n",
      "Code: 0 {'F2': 0, 'weights': [[1.0, 1.0]]}\n",
      "-----------------------------------------\n",
      "F1: [[0.0, 0.0]]\n",
      "===========================\n",
      "Code: 0 {'F2': 0, 'weights': [[1.0, 1.0, 1.0, 1.0], [1.0, 1.0, 1.0, 1.0], [1.0, 1.0]]}\n",
      "-----------------------------------------\n",
      "F1: [[0.0, 0.0, 0.0, 0.0], [0.0, 0.0, 0.0, 0.0], [0.0, 0.0]]\n"
     ]
    }
   ],
   "source": [
    "from fusionART import *\n",
    "\n",
    "fb = FusionART(schema=[{'name':'events','compl':True,'attrib':['y1']}],beta=[1.0],alpha=[0.1],gamma=[1.0],rho=[0.2],numarray=True)\n",
    "fa = FusionART(schema=[{'name':'state','compl':True,'attrib':['s1','s2']},{'name':'action','attrib':['a1','a2','a3','a4']},{'name':'Q','compl':True,'attrib':['q']}],beta=[1.0,1.0,1.0],alpha=[0.1,0.1,0.1],gamma=[1.0,1.0,1.0],rho=[0.2,0.2,0.5],numarray=True)\n",
    "\n",
    "fa.stackTopFusionART(fb)\n",
    "fa.linkF2TopF1BySchema(['events'])\n",
    "\n",
    "fa.TopFusionART.displayNetwork()\n",
    "print(\"===========================\")\n",
    "fa.displayNetwork()"
   ]
  },
  {
   "cell_type": "markdown",
   "metadata": {},
   "source": [
    "Episodic Memory ART (EM-ART) can be made by stacking two FusionART objects together. The method of 'stackTopFusionART' is to stack a field (like fb) on top of another (like fa). Using the schema model, fb is defined with schema and so the bottom fa. A single complement-coded field, named 'events', is used to hold the sequence of events in hot-gradient encoding. After stacking, the F2 layer of fa must be linked to 'events' field in fb using 'linkF2TopF1BySchema' method. The top layer fb is connected to fa as 'TopFusionART' property."
   ]
  },
  {
   "cell_type": "code",
   "execution_count": 2,
   "metadata": {},
   "outputs": [
    {
     "name": "stdout",
     "output_type": "stream",
     "text": [
      "set F1 by schema  [{'name': 'state', 'val': [1.0, 0.0]}, {'name': 'action', 'val': [0, 0, 0, 1.0]}, {'name': 'Q', 'val': [0.6]}]\n",
      "resonance search: \n",
      " \n",
      "selected  0\n",
      "uncommitted\n",
      "Code: 0 {'F2': 0, 'weights': [[1.0, 1.0]]}\n",
      "-----------------------------------------\n",
      "F1: [[0.9, 0.09999999999999998]]\n",
      "Code: 0 {'F2': 0, 'weights': [[1.0, 0.0, 0.0, 1.0], [0, 0, 0, 1.0], [0.6, 0.4]]}\n",
      "Code: 1 {'F2': 0, 'weights': [[1, 1, 1, 1], [1, 1, 1, 1], [1, 1]]}\n",
      "-----------------------------------------\n",
      "F1: [[1.0, 0.0, 0.0, 1.0], [0, 0, 0, 1.0], [0.6, 0.4]]\n"
     ]
    }
   ],
   "source": [
    "fa.updateF1bySchema([{'name':'state', 'val':[1.0,0.0]},{'name':'action', 'val':[0,0,0,1.0]},{'name':'Q','val':[0.6]}])\n",
    "print(\"set F1 by schema \", [{'name':'state', 'val':[1.0,0.0]},{'name':'action', 'val':[0,0,0,1.0]},{'name':'Q','val':[0.6]}])\n",
    "print(\"resonance search: \")\n",
    "J = fa.SchemaBasedSequentialResSearch()\n",
    "print(\" \")\n",
    "print(\"selected \", J)\n",
    "if fa.uncommitted(J):\n",
    "\tprint ('uncommitted')\n",
    "fa.autoLearn(J)\n",
    "fb.displayNetwork()\n",
    "fa.displayNetwork()"
   ]
  },
  {
   "cell_type": "markdown",
   "metadata": {},
   "source": [
    "Once the network is constructed, the first pattern can be learned or stored in short/medium-term as an event by presenting the input at F1 of the bottom fusionART and call 'SchemaBasedSequentialResSearch' method to form the pattern of the first step in the episode at F1 layer of the top fusion-ART. "
   ]
  },
  {
   "cell_type": "code",
   "execution_count": 3,
   "metadata": {},
   "outputs": [
    {
     "name": "stdout",
     "output_type": "stream",
     "text": [
      "\n",
      "set F1 by schema  [{'name': 'state', 'val': [0.0, 1.0]}, {'name': 'action', 'val': [1.0, 0, 0, 0]}, {'name': 'Q', 'val': [0.3]}]\n",
      "resonance search: \n",
      "selected  1\n",
      "uncommitted\n",
      "Code: 0 {'F2': 0, 'weights': [[1.0, 1, 1.0, 1]]}\n",
      "-----------------------------------------\n",
      "F1: [[0.81, 0.9, 0.19, 0.09999999999999998]]\n",
      "Code: 0 {'F2': 0.6363636363636362, 'weights': [[1.0, 0.0, 0.0, 1.0], [0, 0, 0, 1.0], [0.6, 0.4]]}\n",
      "Code: 1 {'F2': 0, 'weights': [[0.0, 1.0, 1.0, 0.0], [1.0, 0, 0, 0], [0.3, 0.7]]}\n",
      "Code: 2 {'F2': 0, 'weights': [[1, 1, 1, 1], [1, 1, 1, 1], [1, 1]]}\n",
      "-----------------------------------------\n",
      "F1: [[0.0, 1.0, 1.0, 0.0], [1.0, 0, 0, 0], [0.3, 0.7]]\n",
      "\n",
      "set F1 by schema  [{'name': 'state', 'val': [1.0, 0.0]}, {'name': 'action', 'val': [0, 0, 0, 1.0]}, {'name': 'Q', 'val': [0.6]}]\n",
      "resonance search: \n",
      "selected  2\n",
      "uncommitted\n",
      "Code: 0 {'F2': 0, 'weights': [[1.0, 1, 1, 1.0, 1, 1]]}\n",
      "-----------------------------------------\n",
      "F1: [[0.729, 0.81, 0.9, 0.271, 0.19, 0.09999999999999998]]\n",
      "Code: 0 {'F2': 0, 'weights': [[1.0, 0.0, 0.0, 1.0], [0, 0, 0, 1.0], [0.6, 0.4]]}\n",
      "Code: 1 {'F2': 0.6363636363636362, 'weights': [[0.0, 1.0, 1.0, 0.0], [1.0, 0, 0, 0], [0.3, 0.7]]}\n",
      "Code: 2 {'F2': 0, 'weights': [[1.0, 0.0, 0.0, 1.0], [0, 0, 0, 1.0], [0.6, 0.4]]}\n",
      "Code: 3 {'F2': 0, 'weights': [[1, 1, 1, 1], [1, 1, 1, 1], [1, 1]]}\n",
      "-----------------------------------------\n",
      "F1: [[1.0, 0.0, 0.0, 1.0], [0, 0, 0, 1.0], [0.6, 0.4]]\n",
      "\n",
      "set F1 by schema  [{'name': 'state', 'val': [0.0, 1.0]}, {'name': 'action', 'val': [1.0, 0, 0, 0]}, {'name': 'Q', 'val': [0.3]}]\n",
      "resonance search: \n",
      "selected  3\n",
      "uncommitted\n",
      "Code: 0 {'F2': 0, 'weights': [[1.0, 1, 1, 1, 1.0, 1, 1, 1]]}\n",
      "-----------------------------------------\n",
      "F1: [[0.6561, 0.729, 0.81, 0.9, 0.3439, 0.271, 0.19, 0.09999999999999998]]\n",
      "Code: 0 {'F2': 0.6363636363636362, 'weights': [[1.0, 0.0, 0.0, 1.0], [0, 0, 0, 1.0], [0.6, 0.4]]}\n",
      "Code: 1 {'F2': 0, 'weights': [[0.0, 1.0, 1.0, 0.0], [1.0, 0, 0, 0], [0.3, 0.7]]}\n",
      "Code: 2 {'F2': 0.6363636363636362, 'weights': [[1.0, 0.0, 0.0, 1.0], [0, 0, 0, 1.0], [0.6, 0.4]]}\n",
      "Code: 3 {'F2': 0, 'weights': [[0.0, 1.0, 1.0, 0.0], [1.0, 0, 0, 0], [0.3, 0.7]]}\n",
      "Code: 4 {'F2': 0, 'weights': [[1, 1, 1, 1], [1, 1, 1, 1], [1, 1]]}\n",
      "-----------------------------------------\n",
      "F1: [[0.0, 1.0, 1.0, 0.0], [1.0, 0, 0, 0], [0.3, 0.7]]\n"
     ]
    }
   ],
   "source": [
    "print(\"\")\n",
    "fa.updateF1bySchema([{'name':'state', 'val':[0.0,1.0]},{'name':'action', 'val':[1.0,0,0,0]},{'name':'Q','val':[0.3]}])\n",
    "print(\"set F1 by schema \", [{'name':'state', 'val':[0.0,1.0]},{'name':'action', 'val':[1.0,0,0,0]},{'name':'Q','val':[0.3]}])\n",
    "print(\"resonance search: \")\n",
    "J = fa.SchemaBasedSequentialResSearch()\n",
    "print(\"selected \", J)\n",
    "if fa.uncommitted(J):\n",
    "\tprint('uncommitted')\n",
    "fa.autoLearn(J)\n",
    "fb.displayNetwork()\n",
    "fa.displayNetwork()\n",
    "\n",
    "print(\"\")\n",
    "fa.updateF1bySchema([{'name':'state', 'val':[1.0,0.0]},{'name':'action', 'val':[0,0,0,1.0]},{'name':'Q','val':[0.6]}])\n",
    "print(\"set F1 by schema \", [{'name':'state', 'val':[1.0,0.0]},{'name':'action', 'val':[0,0,0,1.0]},{'name':'Q','val':[0.6]}])\n",
    "print(\"resonance search: \")\n",
    "J = fa.SchemaBasedSequentialResSearch()\n",
    "print(\"selected \", J)\n",
    "if fa.uncommitted(J):\n",
    "\tprint('uncommitted')\n",
    "fa.autoLearn(J)\n",
    "fb.displayNetwork()\n",
    "fa.displayNetwork()\n",
    "\n",
    "print(\"\")\n",
    "fa.updateF1bySchema([{'name':'state', 'val':[0.0,1.0]},{'name':'action', 'val':[1.0,0,0,0]},{'name':'Q','val':[0.3]}])\n",
    "print(\"set F1 by schema \", [{'name':'state', 'val':[0.0,1.0]},{'name':'action', 'val':[1.0,0,0,0]},{'name':'Q','val':[0.3]}])\n",
    "print(\"resonance search: \")\n",
    "J = fa.SchemaBasedSequentialResSearch()\n",
    "print(\"selected \", J)\n",
    "if fa.uncommitted(J):\n",
    "\tprint('uncommitted')\n",
    "fa.autoLearn(J)\n",
    "fb.displayNetwork()\n",
    "fa.displayNetwork()"
   ]
  },
  {
   "cell_type": "markdown",
   "metadata": {},
   "source": [
    "the subsequent event can be formed by presenting and conducting the sequential resonance search for the rest of the items in the sequence consecutively"
   ]
  },
  {
   "cell_type": "code",
   "execution_count": null,
   "metadata": {},
   "outputs": [],
   "source": [
    "J=fb.resSearch()\n",
    "fb.autoLearn(J)\n",
    "fb.displayNetwork()"
   ]
  },
  {
   "cell_type": "markdown",
   "metadata": {},
   "source": [
    "Once the sequence is fully formed, the top FusionART can learn it to store in the network by calling resonance search (resSearch) and learn the weights (autoLearn)."
   ]
  },
  {
   "cell_type": "code",
   "execution_count": null,
   "metadata": {},
   "outputs": [],
   "source": [
    "fa.seqTopReadoutToF1Schema()\n",
    "fa.TopFusionART.displayNetwork()\n",
    "print(\"===========================\")\n",
    "fa.displayNetwork()\n",
    "print(\" \")\n",
    "fa.seqTopReadoutToF1Schema()\n",
    "fa.TopFusionART.displayNetwork()\n",
    "print(\"===========================\")\n",
    "fa.displayNetwork()\n",
    "print(\" \")\n",
    "fa.seqTopReadoutToF1Schema()\n",
    "fa.TopFusionART.displayNetwork()\n",
    "print(\"===========================\")\n",
    "fa.displayNetwork()\n",
    "print(\" \")\n",
    "fa.seqTopReadoutToF1Schema()\n",
    "fa.TopFusionART.displayNetwork()\n",
    "print(\"===========================\")\n",
    "fa.displayNetwork()"
   ]
  },
  {
   "cell_type": "markdown",
   "metadata": {},
   "source": [
    "The stored sequence can be recalled by consecutively calling 'seqTopReadoutToF1Schema' of fa object"
   ]
  },
  {
   "cell_type": "code",
   "execution_count": null,
   "metadata": {},
   "outputs": [],
   "source": [
    "fa.TopDownF1()\n",
    "print(\"after topdown readout of activityF1 to F1 fields\")\n",
    "print(\"F1 Fields: \", fa.F1Fields)\n",
    "print(\"fb F1 Fields: \", fb.F1Fields)"
   ]
  },
  {
   "cell_type": "markdown",
   "metadata": {},
   "source": [
    "'TopDownF1' can be called to obtain the update of the schema values of F1 fields at the bottom fusionART "
   ]
  },
  {
   "cell_type": "code",
   "execution_count": null,
   "metadata": {},
   "outputs": [],
   "source": [
    "saveFusionARTNetwork(fa, name='schembottomfa.net')\n",
    "saveFusionARTNetwork(fb, name='schemtopfb.net')"
   ]
  },
  {
   "cell_type": "markdown",
   "metadata": {},
   "source": [
    "the entire can be stored in files by calling 'saveFusionARTNetwork' for each bottom and top fusionART network"
   ]
  },
  {
   "cell_type": "code",
   "execution_count": null,
   "metadata": {},
   "outputs": [],
   "source": []
  }
 ],
 "metadata": {
  "kernelspec": {
   "display_name": "py37",
   "language": "python",
   "name": "py37"
  },
  "language_info": {
   "codemirror_mode": {
    "name": "ipython",
    "version": 3
   },
   "file_extension": ".py",
   "mimetype": "text/x-python",
   "name": "python",
   "nbconvert_exporter": "python",
   "pygments_lexer": "ipython3",
   "version": "3.7.9"
  },
  "nteract": {
   "version": "0.28.0"
  }
 },
 "nbformat": 4,
 "nbformat_minor": 2
}
