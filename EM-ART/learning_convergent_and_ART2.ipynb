{
 "cells": [
  {
   "cell_type": "markdown",
   "metadata": {},
   "source": [
    "### Learning convergence check in Fusion ART based on minimum delta threshold "
   ]
  },
  {
   "cell_type": "markdown",
   "metadata": {},
   "source": [
    "Let define a fusion ART network with three input channels"
   ]
  },
  {
   "cell_type": "code",
   "execution_count": null,
   "metadata": {},
   "outputs": [],
   "source": [
    "from fusionART import *\n",
    "\n",
    "#fa is defined as FusionART with schema based input fields definition. For example, here it consists of 'state', 'action', and 'Q'\n",
    "fa = FusionART(schema=[{'name':'state','compl':True,'attrib':['s1','s2']},{'name':'action','attrib':['a1','a2','a3','a4']},{'name':'Q','compl':True,'attrib':['q']}],beta=[1.0,1.0,1.0],alpha=[0.1,0.1,0.1],gamma=[1.0,1.0,1.0],rho=[0.0,0.0,0.2])\n",
    "\n",
    "#the structure of the fusionART network can be shown with the methods as follows\n",
    "fa.displayNetwork()\n",
    "fa.F1Fields"
   ]
  },
  {
   "cell_type": "markdown",
   "metadata": {},
   "source": [
    "A new wrapper function can be defined to conduct the fusionART learning and check if there's any change made by the learning so to conclude that the learning has been converged "
   ]
  },
  {
   "cell_type": "code",
   "execution_count": null,
   "metadata": {},
   "outputs": [],
   "source": [
    "## a new function of automated learning for fusion ART (fusart) object that returns a boolean True\n",
    "# if there's any change to the weight values larger than mindelta or a recruitment of new uncommitted code for node J\n",
    "# Otherwise it returns False.\n",
    "# The function accept fusart argument as the fusion ART object, J as the selected F2 node from resonance search, and mindelta to be the minimum change of the weight to consider as converged\n",
    "def xAutoLearn(fusart=None, J=None, mindelta=0.00001):\n",
    "    newcode = fusart.uncommitted(J)\n",
    "    bw = copy.deepcopy(fusart.codes[J]['weights']) #keep the weights values before of J before learning\n",
    "    fusart.autoLearn(J)\n",
    "    if not newcode:\n",
    "        return any([any([abs(bw[k][i]-fusart.codes[J]['weights'][k][i]) > mindelta for i in range(len(bw[k]))]) for k in range(len(bw))])\n",
    "    else:\n",
    "        return True\n"
   ]
  },
  {
   "cell_type": "markdown",
   "metadata": {},
   "source": [
    "### Example of the use of xAutoLearn function"
   ]
  },
  {
   "cell_type": "markdown",
   "metadata": {},
   "source": [
    "The xAutoLearn function can be used at one time to indicate if weights has been changed after the learning"
   ]
  },
  {
   "cell_type": "code",
   "execution_count": null,
   "metadata": {},
   "outputs": [],
   "source": [
    "#present the input to fusionART object fa\n",
    "fa.updateF1bySchema([{'name':'state', 'val':[0.0,1.0]},{'name':'action', 'val':[1.0,0,0,0]},{'name':'Q','val':[0.3]}])\n",
    "print(\"set F1 by schema \", [{'name':'state', 'val':[0.0,1.0]},{'name':'action', 'val':[1.0,0,0,0]},{'name':'Q','val':[0.3]}])\n",
    "\n",
    "#perform resonance search to select F2 node J\n",
    "print(\"resonance search: \")\n",
    "J = fa.resSearch()\n",
    "print(\"selected \", J)\n",
    "\n",
    "#perform learning and return the status for any change\n",
    "changed = xAutoLearn(fa, J)\n",
    "fa.displayNetwork()\n",
    "\n",
    "#print out the status of any change. Running this cell again consecutively will show different status of change\n",
    "if changed:\n",
    "    print('there is a change in weights')\n",
    "else:\n",
    "    print('no change in the weights')"
   ]
  },
  {
   "cell_type": "markdown",
   "metadata": {},
   "source": [
    "For a dataset containing several data items, the xAutoLearn function can be used to count the number of change so that a zero count means the learning has converged "
   ]
  },
  {
   "cell_type": "code",
   "execution_count": null,
   "metadata": {},
   "outputs": [],
   "source": [
    "#an example data set in a list of F1 schema\n",
    "episode_data_2 = [ [{'name':'state', 'val':[1.0,1.0]},{'name':'action', 'val':[1.0,0,0,0]},{'name':'Q','val':[0.3]}],\n",
    "                [{'name':'state', 'val':[0.0,1.0]},{'name':'action', 'val':[0.0,1.0,0,0]},{'name':'Q','val':[0.5]}],\n",
    "                [{'name':'state', 'val':[0.0,0.0]},{'name':'action', 'val':[1.0,0,0,1.0]},{'name':'Q','val':[0.7]}],\n",
    "                [{'name':'state', 'val':[1.0,0.0]},{'name':'action', 'val':[0.0,1.0,0,0]},{'name':'Q','val':[0.5]}],\n",
    "                [{'name':'state', 'val':[0.0,1.0]},{'name':'action', 'val':[1.0,0,0,0]},{'name':'Q','val':[0.3]}] ]\n",
    "\n",
    "#another example data set in a list of F1 schema\n",
    "episode_data_3 = [ [{'name':'state', 'val':[0.0,0.0]},{'name':'action', 'val':[1.0,0,0,1.0]},{'name':'Q','val':[0.5]}],\n",
    "                [{'name':'state', 'val':[1.0,0.0]},{'name':'action', 'val':[0.0,0,0,1.0]},{'name':'Q','val':[0.7]}],\n",
    "                [{'name':'state', 'val':[1.0,0.0]},{'name':'action', 'val':[0.0,0,1.0,0]},{'name':'Q','val':[0.3]}],\n",
    "                [{'name':'state', 'val':[0.0,0.0]},{'name':'action', 'val':[1.0,0,0,0]},{'name':'Q','val':[0.4]}] ]\n",
    "\n",
    "#a function that receive an episode data to learn it in fusion ART\n",
    "def episode_learn(edata=None):\n",
    "    cnt = 0\n",
    "    for d in edata:\n",
    "        fa.updateF1bySchema(d)\n",
    "        J = fa.resSearch()\n",
    "        cnt += xAutoLearn(fa, J) #the status is counted \n",
    "    return cnt\n",
    "\n",
    "print('learning (episode 2)')\n",
    "print('number of new data learned (episode 2): ', episode_learn(edata=episode_data_2))\n",
    "fa.displayNetwork()\n",
    "print(\"\")\n",
    "print('learning (episode 3)')\n",
    "print('number of new data learned (episode 3): ', episode_learn(edata=episode_data_3))\n",
    "fa.displayNetwork()\n",
    "print(\"\")\n",
    "\n",
    "print('learning (episode 2)')\n",
    "print('number of new data learned (episode 2): ', episode_learn(edata=episode_data_2))\n",
    "fa.displayNetwork()\n",
    "print(\"\")\n",
    "print('learning (episode 3)')\n",
    "print('number of new data learned (episode 3): ', episode_learn(edata=episode_data_3))\n",
    "fa.displayNetwork()\n",
    "\n",
    "##Running this cell multiple times would eventually make the number of data learned = 0\n",
    "##which means the learning has converged"
   ]
  },
  {
   "cell_type": "markdown",
   "metadata": {},
   "source": [
    "# ART2 Operation"
   ]
  },
  {
   "cell_type": "markdown",
   "metadata": {},
   "source": [
    "### I. Choice Function\n",
    " ART2: $ T_j = \\sum_{k=1}^n \\gamma^{k} \\frac{{\\bf x}^{k} \\cdot {\\bf w}_j^{k}}{||{\\bf x}^{k}||\\;||{\\bf w}_j^{k}||} $, the original FuzzyART Choice function $T_j = \\sum_{k=1}^3 \\gamma^{k} \\frac{|{\\bf x}^{k} \\wedge {\\bf w}_j^{k}|}{\\alpha^{k}+|{\\bf w}_j^{k}|}$"
   ]
  },
  {
   "cell_type": "code",
   "execution_count": null,
   "metadata": {},
   "outputs": [],
   "source": [
    "#choiceFieldFuncART2: calculate the choice function for a node j in field k\n",
    "#given input xck, a weight vector wjck, alphack, and gammack for contribution parameter and choice parameters \n",
    "#return the activation value of node j for particular field k\n",
    "#The template for ART2 choice function for a particular channel/field can be defined as follows:\n",
    "def choiceFieldFuncART2(xck,wjck,alphack,gammack):\n",
    "    tp = np.dot(np.array(xck),np.array(wjck))\n",
    "    btm = np.linalg.norm(np.array(xck))*np.linalg.norm(np.array(wjck))\n",
    "    return gammack * (float(tp)/float(btm))"
   ]
  },
  {
   "cell_type": "markdown",
   "metadata": {},
   "source": [
    "### II. Code Competition\n",
    "$T_J = \\max \\{T_j: \\mbox{for all $F_2$ node $j$}\\}$  (the same as the original code competition in FusionART)"
   ]
  },
  {
   "cell_type": "markdown",
   "metadata": {},
   "source": [
    "### III. Template Matching\n",
    "ART2: $ m_J^{k} = \\frac{{\\bf x}^{k} \\cdot {\\bf w}_j^{k}}{||{\\bf x}^{k}||\\;||{\\bf w}_j^{k}||} \\geq \\rho_s^{k} $, the original FuzzyART template matching: $m_J^{k} = \\frac{|{\\bf x}^{k} \\wedge {\\bf w}_J^{k}|}{|{\\bf x}^{k}|} \\geq \\rho_s^{k}$"
   ]
  },
  {
   "cell_type": "code",
   "execution_count": null,
   "metadata": {},
   "outputs": [],
   "source": [
    "#matchFuncART2: ART2 match function of weight vector wjck with vector xck\n",
    "#return the match value. \n",
    "##The template function for ART2 template matching for a particular channel/field can defined as follows: \n",
    "def matchFuncART2(xck,wjck):\n",
    "    m = 0.0\n",
    "    denominator = 0.0\n",
    "    tp = np.dot(np.array(xck),np.array(wjck))\n",
    "    btm = np.linalg.norm(np.array(xck))*np.linalg.norm(np.array(wjck))\n",
    "    if btm <= 0:\n",
    "        return 1.0\n",
    "    return float(tp)/float(btm)\n",
    "\n",
    "#The template include the checking of the match with vigilance parameter\n",
    "def resonanceFieldART2(xck, wjck, rhok):\n",
    "    return matchFuncART2(xck, wjck) < rhok"
   ]
  },
  {
   "cell_type": "markdown",
   "metadata": {},
   "source": [
    "### IV. Template Learning\n",
    "ART2: ${\\bf w}_J^{k {\\rm (new)}} = (1-\\beta^{k}) {\\bf w}_J^{k {\\rm (old)}} + \\beta^{k} {\\bf x}^{k}$, the original FuzzyART template learning ${\\bf w}_J^{k {\\rm (new)}} = (1-\\beta^{k}) {\\bf w}_J^{k {\\rm\t(old)}} + \\beta^{k} ({\\bf x}^{k} \\wedge {\\bf w}_J^{k {\\rm (old)}})$\n"
   ]
  },
  {
   "cell_type": "code",
   "execution_count": null,
   "metadata": {},
   "outputs": [],
   "source": [
    "#updWeightsART2: ART template learning function of weight vector wjck with vector xck\n",
    "#return the updated weight. \n",
    "##The template function for ART2 template learning for a particular channel/field can defined as follows: \n",
    "def updWeightsART2(rate, weightk, inputk):\n",
    "    w = np.array(weightk)\n",
    "    i = np.array(inputk)\n",
    "    uw = (((1-rate)*w) + (rate*i)).tolist()\n",
    "    return uw"
   ]
  },
  {
   "cell_type": "markdown",
   "metadata": {},
   "source": [
    "### L2 Norm and ART2 Complement Coding\n",
    "The L2 Norm used in ART2 can be defined as follows $||{\\bf p}||\\equiv\\sqrt{\\sum_ip^2_i}$\n",
    "\n",
    "Complement coding in ART2 is based on euclidean distance $\\bar{I}_i^{k}=\\sqrt{1-(I_i^{k})^2}$ instead of just the normalized inverse from 1 like $\\bar{I}_i^{k}=1-I_i^{k}$"
   ]
  },
  {
   "cell_type": "code",
   "execution_count": null,
   "metadata": {},
   "outputs": [],
   "source": [
    "#Given a vector (list) I in Python\n",
    "I = [1, 0, 0.3, 0.5, 1, 0]\n",
    "#complement coded vector Ic of I based on euclidean distance for ART2 can be made as follows\n",
    "Ic = I + [math.sqrt(1-i**2) for i in I]\n",
    "Ic"
   ]
  },
  {
   "cell_type": "markdown",
   "metadata": {},
   "source": [
    "A FusionART object can be made to use ART2 operations instead of Fuzzy ART by re-defining the ART2 template functions to the FusionART object.  "
   ]
  },
  {
   "cell_type": "code",
   "execution_count": null,
   "metadata": {},
   "outputs": [],
   "source": [
    "#Let define another fusionART object fa2 with identical structure as before\n",
    "fa2 = FusionART(schema=[{'name':'state','compl':True,'attrib':['s1','s2']},{'name':'action','attrib':['a1','a2','a3','a4']},{'name':'Q','compl':True,'attrib':['q']}],beta=[1.0,1.0,1.0],alpha=[0.1,0.1,0.1],gamma=[1.0,1.0,1.0],rho=[0.0,0.0,0.2])\n",
    "\n",
    "#The original FuzzyART methods for resonance search can be overriden with ART2 template functions \n",
    "#defined above as follows\n",
    "\n",
    "#set the choice function to activate category field\n",
    "fa2.setChoiceActFunction(cfunction=choiceFieldFuncART2)\n",
    "\n",
    "#set the weight update function\n",
    "fa2.setUpdWeightFunction(ufunction=updWeightsART2)\n",
    "\n",
    "#set the resonance search function\n",
    "fa2.setResonanceFieldFunction(rfunction=resonanceFieldART2)\n",
    "\n",
    "#set the match function\n",
    "fa2.setMatchValFieldFunction(mfunction=matchFuncART2)\n"
   ]
  },
  {
   "cell_type": "markdown",
   "metadata": {},
   "source": [
    "Now the fusionART object (fa2) will apply ART2 for all operations in the cycles of resonance search and learning.\n",
    "However, since the fusionART is defined to be schema-based, the automated complement coding function is still using the original subtraction scheme as used in FuzzyART.\n",
    "\n",
    "To make the fusionART object applies the euclidean-distance based complement coding, the function to handle the complement coding in the schema can be overridden."
   ]
  },
  {
   "cell_type": "code",
   "execution_count": null,
   "metadata": {},
   "outputs": [],
   "source": [
    "#Let define the function for refreshing/updating the schema with the new euclidean method of complement coding\n",
    "def refreshComplSchema(fschema):\n",
    "    uschema = copy.deepcopy(fschema)\n",
    "    if 'compl' in uschema:\n",
    "        if uschema['compl']:\n",
    "            uschema['vcompl'] = [math.sqrt(1-i**2) for i in uschema['val']] #the euclidean complement\n",
    "    return uschema\n",
    "\n",
    "#based on the new function definition, the corresponding function in fusionART can be overridden\n",
    "#refreshComplSchema = refreshComplEuclidSchema\n",
    "fa2.setUpdRefComplFunction(rcfunction=refreshComplSchema)\n"
   ]
  },
  {
   "cell_type": "markdown",
   "metadata": {},
   "source": [
    "The new fusion ART object with ART2 operations is ready to test"
   ]
  },
  {
   "cell_type": "code",
   "execution_count": null,
   "metadata": {},
   "outputs": [],
   "source": [
    "#present the input to fusionART object fa\n",
    "fa2.updateF1bySchema([{'name':'state', 'val':[0.0,1.0]},{'name':'action', 'val':[1.0,0,0,0]},{'name':'Q','val':[0.3]}])\n",
    "print(\"set F1 by schema \", [{'name':'state', 'val':[0.0,1.0]},{'name':'action', 'val':[1.0,0,0,0]},{'name':'Q','val':[0.3]}])\n",
    "\n",
    "#perform resonance search to select F2 node J\n",
    "print(\"resonance search: \")\n",
    "J = fa2.resSearch()\n",
    "print(\"selected \", J)\n",
    "\n",
    "#perform learning and return the status for any change\n",
    "changed = xAutoLearn(fa2, J)\n",
    "fa2.displayNetwork()\n"
   ]
  },
  {
   "cell_type": "markdown",
   "metadata": {},
   "source": [
    "### Hybrid FuzzyART and ART2"
   ]
  },
  {
   "cell_type": "markdown",
   "metadata": {},
   "source": [
    "ART2 can be defined to apply in a field side by side with another field together in one FusionART object.\n",
    "For example, we can define EM-ART network wherein the top fusion ART is defined to have two fields one with ART2 and the other is FuzzyART"
   ]
  },
  {
   "cell_type": "code",
   "execution_count": null,
   "metadata": {},
   "outputs": [],
   "source": [
    "#Let define EM-ART model as two fusion ARTs stacked on top of another\n",
    "#The top fusionART has two input fields: 'events' to store the episode sequence, and 'winning' for the winning status\n",
    "#The 'events' field will be applied with ART2 while 'winning' field stays with the default FuzzyART\n",
    "ftop = FusionART(schema=[{'name':'events','compl':True,'attrib':['y1']},{'name':'winning','compl':True,'attrib':['win']}],beta=[1.0,1.0],alpha=[0.1,0.1],gamma=[1.0,1.0],rho=[1.0,1.0],numarray=True)\n",
    "fbottom = FusionART(schema=[{'name':'state','compl':True,'attrib':['s1','s2']},{'name':'action','attrib':['a1','a2','a3','a4']},{'name':'Q','compl':True,'attrib':['q']}],beta=[1.0,1.0,1.0],alpha=[0.1,0.1,0.1],gamma=[1.0,1.0,1.0],rho=[1.0,1.0,1.0],numarray=True)\n",
    "\n",
    "fbottom.stackTopFusionART(ftop)\n",
    "fbottom.linkF2TopF1BySchema(['events'])\n",
    "\n",
    "ftop.displayNetwork()\n",
    "print(\"===========================\")\n",
    "fbottom.displayNetwork()"
   ]
  },
  {
   "cell_type": "markdown",
   "metadata": {},
   "source": [
    "All the necessary operations of ART2 can be made to override the pre-existing FuzzyART methods for the particular field in the top Fusion ART "
   ]
  },
  {
   "cell_type": "code",
   "execution_count": null,
   "metadata": {},
   "outputs": [],
   "source": [
    "#The default functions of FuzzyART for a particular field can be overridden by specifying the field\n",
    "#index k. k=0 arguments refers to apply ART2 only for the first field of the top fusion ART \n",
    "\n",
    "#set the choice function to activate category field\n",
    "ftop.setChoiceActFunction(cfunction=choiceFieldFuncART2, k=0)\n",
    "\n",
    "#set the weight update function\n",
    "ftop.setUpdWeightFunction(ufunction=updWeightsART2, k=0)\n",
    "\n",
    "#set the resonance search function\n",
    "ftop.setResonanceFieldFunction(rfunction=resonanceFieldART2, k=0)\n",
    "\n",
    "#set the match function\n",
    "ftop.setMatchValFieldFunction(mfunction=matchFuncART2, k=0)\n",
    "\n",
    "#set the refresh complement schema function\n",
    "ftop.setUpdRefComplFunction(rcfunction=refreshComplSchema, k=0)"
   ]
  },
  {
   "cell_type": "code",
   "execution_count": null,
   "metadata": {},
   "outputs": [],
   "source": [
    "#Some testing of the new hybrid model of EM-ART\n",
    "\n",
    "print(\"\")\n",
    "fbottom.updateF1bySchema([{'name':'state', 'val':[0.0,1.0]},{'name':'action', 'val':[1.0,0,0,0]},{'name':'Q','val':[0.3]}])\n",
    "print(\"set F1 by schema \", [{'name':'state', 'val':[0.0,1.0]},{'name':'action', 'val':[1.0,0,0,0]},{'name':'Q','val':[0.3]}])\n",
    "print(\"resonance search: \")\n",
    "J = fbottom.SchemaBasedSequentialResSearch()\n",
    "print(\"selected \", J)\n",
    "if fbottom.uncommitted(J):\n",
    "\tprint('uncommitted')\n",
    "fbottom.autoLearn(J)\n",
    "ftop.displayNetwork()\n",
    "fbottom.displayNetwork()\n",
    "\n",
    "print(\"\")\n",
    "fbottom.updateF1bySchema([{'name':'state', 'val':[1.0,0.0]},{'name':'action', 'val':[1.0,0,0,1.0]},{'name':'Q','val':[0.6]}])\n",
    "print(\"set F1 by schema \", [{'name':'state', 'val':[1.0,0.0]},{'name':'action', 'val':[0,0,0,1.0]},{'name':'Q','val':[0.6]}])\n",
    "print(\"resonance search: \")\n",
    "J = fbottom.SchemaBasedSequentialResSearch()\n",
    "print(\"selected \", J)\n",
    "if fbottom.uncommitted(J):\n",
    "\tprint('uncommitted')\n",
    "fbottom.autoLearn(J)\n",
    "ftop.displayNetwork()\n",
    "fbottom.displayNetwork()\n",
    "\n",
    "print(\"\")\n",
    "fbottom.updateF1bySchema([{'name':'state', 'val':[0.0,1.0]},{'name':'action', 'val':[1.0,0,0,0]},{'name':'Q','val':[0.3]}])\n",
    "print(\"set F1 by schema \", [{'name':'state', 'val':[0.0,1.0]},{'name':'action', 'val':[1.0,0,0,0]},{'name':'Q','val':[0.3]}])\n",
    "print(\"resonance search: \")\n",
    "J = fbottom.SchemaBasedSequentialResSearch()\n",
    "print(\"selected \", J)\n",
    "if fbottom.uncommitted(J):\n",
    "\tprint('uncommitted')\n",
    "fbottom.autoLearn(J)\n",
    "ftop.displayNetwork()\n",
    "fbottom.displayNetwork()\n",
    "\n",
    "print(\"\")\n",
    "print('set the winning status')\n",
    "ftop.updateF1bySchema([{'name':'winning','val':[1.0]}])\n",
    "ftop.displayNetwork()\n",
    "fbottom.displayNetwork()\n",
    "\n",
    "print(\"\")\n",
    "print(\"learn the episode\")\n",
    "J=ftop.resSearch()\n",
    "ftop.autoLearn(J)\n",
    "ftop.displayNetwork()\n",
    "ftop.clearActivityF1()\n"
   ]
  },
  {
   "cell_type": "code",
   "execution_count": null,
   "metadata": {},
   "outputs": [],
   "source": []
  }
 ],
 "metadata": {
  "kernelspec": {
   "display_name": "py37",
   "language": "python",
   "name": "py37"
  },
  "language_info": {
   "codemirror_mode": {
    "name": "ipython",
    "version": 3
   },
   "file_extension": ".py",
   "mimetype": "text/x-python",
   "name": "python",
   "nbconvert_exporter": "python",
   "pygments_lexer": "ipython3",
   "version": "3.7.9"
  }
 },
 "nbformat": 4,
 "nbformat_minor": 4
}
