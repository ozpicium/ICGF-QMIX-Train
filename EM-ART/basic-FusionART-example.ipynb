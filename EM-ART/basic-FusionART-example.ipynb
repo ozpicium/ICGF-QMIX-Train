{
 "cells": [
  {
   "cell_type": "code",
   "execution_count": null,
   "metadata": {},
   "outputs": [],
   "source": [
    "from fusionART import *\n",
    "\n",
    "fa = FusionART(numspace=3,lengths=[4,4,2],beta=[1.0,1.0,1.0],alpha=[0.1,0.1,0.1],gamma=[1.0,1.0,1.0],rho=[0.2,0.2,0.5])\n",
    "fa.displayNetwork()"
   ]
  },
  {
   "cell_type": "markdown",
   "metadata": {},
   "source": [
    "\"a FusionART object can be created by specifying the number of F1 fields (numspace), length of each field (lengths), beta, alpha, gamma, and rho parameters for every field.\""
   ]
  },
  {
   "cell_type": "code",
   "execution_count": null,
   "metadata": {},
   "outputs": [],
   "source": [
    "fa.setActivityF1([[1.0,0,0,1.0],[0,0,0,1.0],[0.6,0.4]])\n",
    "print(\"set ActivityF1 to \", fa.activityF1)"
   ]
  },
  {
   "cell_type": "markdown",
   "metadata": {},
   "source": [
    "\"setActivityF1 method is to provide the input to every F1 field of fa. It will store the value to activityF1 property of fa\" "
   ]
  },
  {
   "cell_type": "code",
   "execution_count": null,
   "metadata": {},
   "outputs": [],
   "source": [
    "print(\"resonance search: \")\n",
    "J = fa.resSearch()\n",
    "print(\"selected \", J)\n",
    "if fa.uncommitted(J):\n",
    "\tprint ('uncommitted')\n",
    "fa.autoLearn(J)\n",
    "fa.displayNetwork()"
   ]
  },
  {
   "cell_type": "markdown",
   "metadata": {},
   "source": [
    "\"resonance search (resSearch) is to select a node in F2. In this case, J is the index of the selected node in F2 (let's ignore the mtrack argument for a while). The node selected can uncommitted which mean it failed to find a matching code in F2. It's checked with uncommitted method. Once the node J is selected, the input vectors in F1 can be learned to associate with J with autoLearn method. The structure of the network can be shown by displayNetwork method.\" "
   ]
  },
  {
   "cell_type": "code",
   "execution_count": null,
   "metadata": {},
   "outputs": [],
   "source": [
    "fa.setActivityF1([[0,1.0,1.0,0],[1.0,0,0,0],[0.3,0.7]])\n",
    "print(\"set ActivityF1 to \", fa.activityF1)\n",
    "print(\"resonance search: \")\n",
    "J = fa.resSearch(mtrack=[0])\n",
    "print(\"selected \", J)\n",
    "if fa.uncommitted(J):\n",
    "\tprint('uncommitted')\n",
    "fa.autoLearn(J)\n",
    "fa.displayNetwork()\n",
    "\n",
    "print(\"\")\n",
    "fa.setActivityF1([[1.0,0,0,1.0],[0,0,0,1.0],[0.6,0.4]])\n",
    "print(\"set ActivityF1 to \", fa.activityF1)\n",
    "print(\"resonance search: \")\n",
    "J = fa.resSearch(mtrack=[0])\n",
    "print(\"selected \", J)\n",
    "if fa.uncommitted(J):\n",
    "\tprint('uncommitted')\n",
    "fa.autoLearn(J)\n",
    "fa.displayNetwork()"
   ]
  },
  {
   "cell_type": "markdown",
   "metadata": {},
   "source": [
    "\"Different input patterns can be given subsequently to retrieve nodes or to be stored in the network as shown\""
   ]
  }
 ],
 "metadata": {
  "kernelspec": {
   "display_name": "py37",
   "language": "python",
   "name": "py37"
  },
  "language_info": {
   "codemirror_mode": {
    "name": "ipython",
    "version": 3
   },
   "file_extension": ".py",
   "mimetype": "text/x-python",
   "name": "python",
   "nbconvert_exporter": "python",
   "pygments_lexer": "ipython3",
   "version": "3.7.9"
  }
 },
 "nbformat": 4,
 "nbformat_minor": 2
}
