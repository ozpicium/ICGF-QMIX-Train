{
 "cells": [
  {
   "cell_type": "code",
   "execution_count": 1,
   "metadata": {},
   "outputs": [
    {
     "name": "stdout",
     "output_type": "stream",
     "text": [
      "lengths:  3\n"
     ]
    }
   ],
   "source": [
    "from fusionART import *\n",
    "\n",
    "fb = FusionART(numspace=2,lengths=[1,1],beta=[1.0,1.0,1.0],alpha=[0.1,0.1,0.1],gamma=[1.0,1.0,1.0],rho=[0.2,0.2,0.5],numarray=True)\n",
    "fa = FusionART(schema=[{'name':'state','compl':True,'attrib':['s1','s2']},{'name':'action','attrib':['a1','a2','a3','a4']},{'name':'Q','compl':True,'attrib':['q']}],beta=[1.0,1.0,1.0],alpha=[0.1,0.1,0.1],gamma=[1.0,1.0,1.0],rho=[0.2,0.2,0.5],numarray=True)\n",
    "\n",
    "fa.stackTopFusionART(fb)\n",
    "fa.linkF2TopF1([0],[1])"
   ]
  },
  {
   "cell_type": "markdown",
   "metadata": {},
   "source": [
    "Firstly, the network is constructed by stacking one fusionART over another and link the category layer of the bottom fusionART with input of the top one"
   ]
  },
  {
   "cell_type": "code",
   "execution_count": 2,
   "metadata": {},
   "outputs": [],
   "source": [
    "loadFusionARTNetwork(fa, name='bottomfa.net')\n",
    "loadFusionARTNetwork(fb, name='topfb.net')"
   ]
  },
  {
   "cell_type": "markdown",
   "metadata": {},
   "source": [
    "The learned EM-ART network can be loaded by the function 'loadFusionARTNetwork' for both top and bottom fusionART "
   ]
  },
  {
   "cell_type": "code",
   "execution_count": 3,
   "metadata": {},
   "outputs": [
    {
     "name": "stdout",
     "output_type": "stream",
     "text": [
      "Code: 0 {'F2': 0, 'weights': [[0.59049, 0.6561, 0.729, 0.81, 0.9], [0.40951, 0.3439, 0.271, 0.19, 0.09999999999999998]]}\n",
      "Code: 1 {'F2': 0, 'weights': [[1, 1, 1, 1, 1], [1, 1, 1, 1, 1]]}\n",
      "-----------------------------------------\n",
      "F1: [[0.0, 0.0, 0.0, 0.0, 0.59049], [0.0, 0.0, 0.0, 0.0, 0.40951]]\n",
      "==============\n",
      "Code: 0 {'F2': 0.6363636363636362, 'weights': [[1.0, 0.0, 0.0, 1.0], [0, 0, 0, 1.0], [0.6, 0.4]]}\n",
      "Code: 1 {'F2': 0.6363636363636362, 'weights': [[1.0, 0.0, 0.0, 1.0], [0, 0, 0, 1.0], [0.6, 0.4]]}\n",
      "Code: 2 {'F2': 0, 'weights': [[0.0, 1.0, 1.0, 0.0], [1.0, 0, 0, 0], [0.3, 0.7]]}\n",
      "Code: 3 {'F2': 0.6363636363636362, 'weights': [[1.0, 0.0, 0.0, 1.0], [0, 0, 0, 1.0], [0.6, 0.4]]}\n",
      "Code: 4 {'F2': 0, 'weights': [[0.0, 1.0, 1.0, 0.0], [1.0, 0, 0, 0], [0.3, 0.7]]}\n",
      "Code: 5 {'F2': 0, 'weights': [[1, 1, 1, 1], [1, 1, 1, 1], [1, 1]]}\n",
      "-----------------------------------------\n",
      "F1: [[1.0, 0.0, 0.0, 1.0], [0, 0, 0, 1.0], [0.6, 0.4]]\n"
     ]
    }
   ],
   "source": [
    "fb.displayNetwork()\n",
    "print(\"==============\")\n",
    "fa.displayNetwork()"
   ]
  },
  {
   "cell_type": "markdown",
   "metadata": {},
   "source": [
    "the entire network can be displayed using the 'displayNetwork' function"
   ]
  },
  {
   "cell_type": "code",
   "execution_count": null,
   "metadata": {},
   "outputs": [],
   "source": []
  }
 ],
 "metadata": {
  "kernelspec": {
   "display_name": "py37",
   "language": "python",
   "name": "py37"
  },
  "language_info": {
   "codemirror_mode": {
    "name": "ipython",
    "version": 3
   },
   "file_extension": ".py",
   "mimetype": "text/x-python",
   "name": "python",
   "nbconvert_exporter": "python",
   "pygments_lexer": "ipython3",
   "version": "3.7.9"
  }
 },
 "nbformat": 4,
 "nbformat_minor": 4
}
